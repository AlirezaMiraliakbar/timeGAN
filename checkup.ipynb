{
 "cells": [
  {
   "cell_type": "code",
   "execution_count": 1,
   "metadata": {},
   "outputs": [],
   "source": [
    "import torch\n",
    "import pickle \n",
    "import numpy as np"
   ]
  },
  {
   "cell_type": "code",
   "execution_count": 2,
   "metadata": {},
   "outputs": [],
   "source": [
    "load_path = 'models/model.pth'"
   ]
  },
  {
   "cell_type": "code",
   "execution_count": 3,
   "metadata": {},
   "outputs": [],
   "source": [
    "model = torch.load(load_path)"
   ]
  },
  {
   "cell_type": "code",
   "execution_count": 4,
   "metadata": {},
   "outputs": [
    {
     "data": {
      "text/plain": [
       "TimeGAN(\n",
       "  (embedder): EmbeddingNetwork(\n",
       "    (emb_rnn): GRU(6, 512, num_layers=3, batch_first=True)\n",
       "    (emb_linear): Linear(in_features=512, out_features=512, bias=True)\n",
       "    (emb_sigmoid): Sigmoid()\n",
       "  )\n",
       "  (generator): GeneratorNetwork(\n",
       "    (gen_rnn): GRU(6, 512, num_layers=3, batch_first=True)\n",
       "    (gen_linear): Linear(in_features=512, out_features=512, bias=True)\n",
       "    (gen_sigmoid): Sigmoid()\n",
       "  )\n",
       "  (discriminator): DiscriminatorNetwork(\n",
       "    (dis_rnn): GRU(512, 512, num_layers=3, batch_first=True)\n",
       "    (dis_linear): Linear(in_features=512, out_features=1, bias=True)\n",
       "  )\n",
       "  (recovery): RecoveryNetwork(\n",
       "    (rec_rnn): GRU(512, 512, num_layers=3, batch_first=True)\n",
       "    (rec_linear): Linear(in_features=512, out_features=6, bias=True)\n",
       "  )\n",
       "  (supervisor): SupervisorNetwork(\n",
       "    (sup_rnn): GRU(512, 512, num_layers=2, batch_first=True)\n",
       "    (sup_linear): Linear(in_features=512, out_features=512, bias=True)\n",
       "    (sup_sigmoid): Sigmoid()\n",
       "  )\n",
       ")"
      ]
     },
     "execution_count": 4,
     "metadata": {},
     "output_type": "execute_result"
    }
   ],
   "source": [
    "model"
   ]
  },
  {
   "cell_type": "code",
   "execution_count": 8,
   "metadata": {},
   "outputs": [],
   "source": [
    "from models.utils import timegan_generator\n",
    "from data.utils import dataset_maker"
   ]
  },
  {
   "cell_type": "code",
   "execution_count": 9,
   "metadata": {},
   "outputs": [
    {
     "name": "stdout",
     "output_type": "stream",
     "text": [
      "Using CUDA\n",
      "\n",
      "Processing training data with shape torch.Size([3661, 24, 6])\n"
     ]
    }
   ],
   "source": [
    "seed = 42\n",
    "if torch.cuda.is_available():\n",
    "    print(\"Using CUDA\\n\")\n",
    "    device = torch.device(\"cuda:0\")\n",
    "    # torch.cuda.manual_seed_all(args.seed)\n",
    "    torch.cuda.manual_seed(seed)\n",
    "    torch.backends.cudnn.deterministic = True\n",
    "    torch.backends.cudnn.benchmark = False\n",
    "else:\n",
    "    print(\"Using CPU\\n\")\n",
    "    device = torch.device(\"cpu\")\n",
    "seq_len = 24\n",
    "\n",
    "X, T, dataset = dataset_maker(data_name='stock', seq_len=seq_len)\n",
    "p = X.shape[2]"
   ]
  },
  {
   "cell_type": "code",
   "execution_count": 11,
   "metadata": {},
   "outputs": [],
   "source": [
    "gen_data = timegan_generator(model=model, device=device, T=T, max_seq_len=seq_len, Z_dim=p)"
   ]
  },
  {
   "cell_type": "code",
   "execution_count": 12,
   "metadata": {},
   "outputs": [
    {
     "data": {
      "text/plain": [
       "(3661, 24, 6)"
      ]
     },
     "execution_count": 12,
     "metadata": {},
     "output_type": "execute_result"
    }
   ],
   "source": [
    "gen_data.shape"
   ]
  },
  {
   "cell_type": "code",
   "execution_count": 14,
   "metadata": {},
   "outputs": [],
   "source": [
    "import matplotlib.pyplot as plt"
   ]
  },
  {
   "cell_type": "code",
   "execution_count": 18,
   "metadata": {},
   "outputs": [
    {
     "data": {
      "text/plain": [
       "<matplotlib.legend.Legend at 0x27e0f56a7d0>"
      ]
     },
     "execution_count": 18,
     "metadata": {},
     "output_type": "execute_result"
    },
    {
     "data": {
      "image/png": "[encoded data removed]",
      "text/plain": [
       "<Figure size 640x480 with 1 Axes>"
      ]
     },
     "metadata": {},
     "output_type": "display_data"
    }
   ],
   "source": [
    "plt.plot(gen_data[0][:,0], label='Generated Data')\n",
    "plt.plot(X[0][:,0], label='Real Data')\n",
    "plt.legend()"
   ]
  },
  {
   "cell_type": "code",
   "execution_count": null,
   "metadata": {},
   "outputs": [],
   "source": []
  }
 ],
 "metadata": {
  "kernelspec": {
   "display_name": "Python 3",
   "language": "python",
   "name": "python3"
  },
  "language_info": {
   "codemirror_mode": {
    "name": "ipython",
    "version": 3
   },
   "file_extension": ".py",
   "mimetype": "text/x-python",
   "name": "python",
   "nbconvert_exporter": "python",
   "pygments_lexer": "ipython3",
   "version": "3.10.11"
  }
 },
 "nbformat": 4,
 "nbformat_minor": 2
}
